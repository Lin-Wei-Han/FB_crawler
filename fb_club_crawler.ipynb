{
 "cells": [
  {
   "cell_type": "markdown",
   "metadata": {},
   "source": [
    "# **社群網路分析起手式，自己的爬蟲自己寫 | 極速上手體驗課**"
   ]
  },
  {
   "cell_type": "code",
   "execution_count": null,
   "metadata": {},
   "outputs": [],
   "source": [
    "# pip3 install selenium pandas bs4"
   ]
  },
  {
   "cell_type": "markdown",
   "metadata": {},
   "source": [
    "## **01. 啟動模擬瀏覽器**"
   ]
  },
  {
   "cell_type": "markdown",
   "metadata": {},
   "source": [
    "`profile.default_content_setting_values.notifications`：這是 Chrome 設定中負責控制網站通知行為的部分。\n",
    "- 1：允許對於網站發出的通知。\n",
    "\n",
    "- 2：阻擋通知。\n",
    "\n",
    "![notifications](./asset/image/notification.png)"
   ]
  },
  {
   "cell_type": "code",
   "execution_count": 1,
   "metadata": {},
   "outputs": [],
   "source": [
    "# 瀏覽器設定：允許所有網站通知行為\n",
    "\n",
    "from selenium import webdriver\n",
    "\n",
    "chrome_options = webdriver.ChromeOptions()\n",
    "\n",
    "# 允許所有網站通知行為\n",
    "chrome_options.add_experimental_option(\n",
    "    \"prefs\", \n",
    "    {\n",
    "        \"profile.default_content_setting_values.notifications\": 1\n",
    "    }\n",
    ")\n",
    "\n",
    "driver = webdriver.Chrome(options = chrome_options)"
   ]
  },
  {
   "cell_type": "markdown",
   "metadata": {},
   "source": [
    "### **設定視窗大小**"
   ]
  },
  {
   "cell_type": "code",
   "execution_count": 2,
   "metadata": {},
   "outputs": [],
   "source": [
    "driver.set_window_size(800, 800)"
   ]
  },
  {
   "cell_type": "markdown",
   "metadata": {},
   "source": [
    "### **跳轉到指定頁面**"
   ]
  },
  {
   "cell_type": "code",
   "execution_count": 3,
   "metadata": {},
   "outputs": [],
   "source": [
    "login_url = 'https://www.facebook.com/login/device-based/regular/login/?login_attempt=1&next=https%3A%2F%2Fwww.facebook.com'\n",
    "driver.get(login_url)"
   ]
  },
  {
   "cell_type": "markdown",
   "metadata": {},
   "source": [
    "## **02. Facebook 登入**"
   ]
  },
  {
   "cell_type": "code",
   "execution_count": 4,
   "metadata": {},
   "outputs": [],
   "source": [
    "# pip3 install python-dotenv\n",
    "\n",
    "from dotenv import load_dotenv, find_dotenv\n",
    "import os\n",
    "\n",
    "load_dotenv(find_dotenv())\n",
    "\n",
    "facebook_mail = os.environ.get(\"FACEBOOK_MAIL\")\n",
    "facebook_password = os.environ.get(\"FACEBOOK_PASSWORD\")\n",
    "\n",
    "# facebook_mail = \"Your_email_address\"\n",
    "# facebook_password = \"Your_password\""
   ]
  },
  {
   "cell_type": "markdown",
   "metadata": {},
   "source": [
    "| 方法           | 用途                                        | 使用方法                                                     |\n",
    "|----------------|---------------------------------------------|-------------------------------------------------------------|\n",
    "| `find_element` | 用於查找單個網頁元素                        | ```element = driver.find_element(By.ID, \"id\")``` <br> 支援的查找方式：<br> - `By.ID`<br> - `By.NAME`<br> - `By.CLASS_NAME`<br> - `By.TAG_NAME`<br> - `By.LINK_TEXT`<br> - `By.PARTIAL_LINK_TEXT`<br> - `By.CSS_SELECTOR`<br> - `By.XPATH`                         |\n",
    "| `send_keys`    | 用於向元素（如輸入框）輸入文字              | ```element.send_keys(\"text\")```                |\n",
    "| `click`        | 用於點擊元素（如按鈕、連結）                | ```element.click()```                          |\n"
   ]
  },
  {
   "cell_type": "code",
   "execution_count": 5,
   "metadata": {},
   "outputs": [],
   "source": [
    "from selenium.webdriver.common.by import By\n",
    "\n",
    "# 定位帳號密碼輸入框的元素\n",
    "email_element = driver.find_element(By.CSS_SELECTOR,'#email_container input')\n",
    "password_element = driver.find_element(By.CSS_SELECTOR,'._55r1._1kbt input')\n",
    "\n",
    "# 輸入 Input\n",
    "email_element.send_keys(facebook_mail)\n",
    "password_element.send_keys(facebook_password)"
   ]
  },
  {
   "cell_type": "code",
   "execution_count": 6,
   "metadata": {},
   "outputs": [],
   "source": [
    "login_button = driver.find_element(By.CSS_SELECTOR, '#loginbutton')\n",
    "\n",
    "# 點擊登入按鈕\n",
    "login_button.click()"
   ]
  },
  {
   "cell_type": "markdown",
   "metadata": {},
   "source": [
    "## **03. 爬取貼文內容**"
   ]
  },
  {
   "cell_type": "code",
   "execution_count": 7,
   "metadata": {},
   "outputs": [],
   "source": [
    "url = 'https://www.facebook.com/groups/510448169724216'\n",
    "\n",
    "driver.get(url)"
   ]
  },
  {
   "cell_type": "markdown",
   "metadata": {},
   "source": [
    "### **頁面滾動**\n",
    "\n",
    "`execute_script` 可以幫助我們在 Webdriver 上執行 Javascript，做出更細緻、進階的操作，包含但不限於：頁面滾動、處理彈出窗口、修改網頁元素。"
   ]
  },
  {
   "cell_type": "code",
   "execution_count": 22,
   "metadata": {},
   "outputs": [],
   "source": [
    "driver.execute_script(\"window.scrollTo(0, document.body.scrollHeight);\")"
   ]
  },
  {
   "cell_type": "code",
   "execution_count": 24,
   "metadata": {},
   "outputs": [],
   "source": [
    "import time\n",
    "\n",
    "counter = 0\n",
    "while counter <= 3:\n",
    "    driver.execute_script(\"window.scrollTo(0, document.body.scrollHeight);\")\n",
    "    # 等待 0.5 秒（確保網頁節點有載入，可根據需求調整等待時間）\n",
    "    time.sleep(0.5)\n",
    "    counter += 1"
   ]
  },
  {
   "cell_type": "markdown",
   "metadata": {},
   "source": [
    "### **解析網頁內容**"
   ]
  },
  {
   "cell_type": "code",
   "execution_count": 45,
   "metadata": {},
   "outputs": [],
   "source": [
    "from bs4 import BeautifulSoup\n",
    "\n",
    "page_content = driver.page_source\n",
    "\n",
    "# 因為要解析的對象是 HTML，所以需指定 html.parser 解析器\n",
    "soup = BeautifulSoup(page_content, 'html.parser')"
   ]
  },
  {
   "cell_type": "markdown",
   "metadata": {},
   "source": [
    "#### **抓取每一篇貼文元素**"
   ]
  },
  {
   "cell_type": "code",
   "execution_count": 46,
   "metadata": {},
   "outputs": [
    {
     "data": {
      "text/plain": [
       "<div class=\"x1yztbdb x1n2onr6 xh8yej3 x1ja2u2z\"><div class=\"x1n2onr6 x1ja2u2z\"><div class=\"\"><div class=\"\"><div aria-describedby=\":rn6: :rn7: :rn8: :rna: :rn9:\" aria-labelledby=\":rn5:\" aria-posinset=\"3\" class=\"x1a2a7pz\" role=\"article\"><div class=\"x78zum5 xdt5ytf\" style=\"min-height: 1035.25px;\"><div class=\"x9f619 x1n2onr6 x1ja2u2z x1s85apg\" hidden=\"\"></div></div></div></div></div></div></div>"
      ]
     },
     "execution_count": 46,
     "metadata": {},
     "output_type": "execute_result"
    }
   ],
   "source": [
    "elements = soup.select('.x1yztbdb.x1n2onr6.xh8yej3.x1ja2u2z')\n",
    "\n",
    "# 輸出隨便一篇貼文元素看看\n",
    "elements[3]"
   ]
  },
  {
   "cell_type": "markdown",
   "metadata": {},
   "source": [
    "#### **貼文作者**"
   ]
  },
  {
   "cell_type": "code",
   "execution_count": 39,
   "metadata": {},
   "outputs": [
    {
     "name": "stdout",
     "output_type": "stream",
     "text": [
      "李凱新\n",
      "蝦吃綺\n",
      "Amber Hsueh\n",
      "Riona Huang\n",
      "Mei-ling Lin\n",
      "龍龍\n",
      "劉庭瑋\n"
     ]
    }
   ],
   "source": [
    "for element in elements:\n",
    "    try:\n",
    "        name = element.select('.xt0psk2 span')[0].text\n",
    "        print(name)\n",
    "    except:\n",
    "        continue"
   ]
  },
  {
   "cell_type": "markdown",
   "metadata": {},
   "source": [
    "#### **按讚數**"
   ]
  },
  {
   "cell_type": "code",
   "execution_count": 29,
   "metadata": {},
   "outputs": [
    {
     "name": "stdout",
     "output_type": "stream",
     "text": [
      "42\n",
      "132\n",
      "86\n",
      "88\n",
      "51\n",
      "85\n",
      "58\n"
     ]
    }
   ],
   "source": [
    "for element in elements:\n",
    "    try:\n",
    "        like = element.select('.xt0b8zv.x2bj2ny.xrbpyxo.xl423tq span.x1e558r4')[0].text\n",
    "        print(like)\n",
    "    except:\n",
    "        continue"
   ]
  },
  {
   "cell_type": "markdown",
   "metadata": {},
   "source": [
    "#### **留言數**"
   ]
  },
  {
   "cell_type": "code",
   "execution_count": 30,
   "metadata": {},
   "outputs": [
    {
     "name": "stdout",
     "output_type": "stream",
     "text": [
      "11則留言\n",
      "11則留言\n",
      "18則留言\n",
      "7則留言\n",
      "14則留言\n",
      "14則留言\n",
      "10則留言\n"
     ]
    }
   ],
   "source": [
    "for element in elements:\n",
    "    try:\n",
    "        comment = element.select('.x193iq5w.xeuugli.x13faqbe.x1vvkbs.x1xmvt09.x1lliihq.x1s928wv.xhkezso.x1gmr53x.x1cpjm7i.x1fgarty.x1943h6x.xudqn12.x3x7a5m.x6prxxf.xvq8zen.xo1l8bm.xi81zsa')[2].text\n",
    "        print(comment)\n",
    "    except:\n",
    "        continue"
   ]
  },
  {
   "cell_type": "markdown",
   "metadata": {},
   "source": [
    "#### **分享數**"
   ]
  },
  {
   "cell_type": "code",
   "execution_count": 31,
   "metadata": {},
   "outputs": [
    {
     "name": "stdout",
     "output_type": "stream",
     "text": [
      "1 次分享\n",
      "3次分享\n",
      "4次分享\n",
      "1 次分享\n"
     ]
    }
   ],
   "source": [
    "for element in elements:\n",
    "    try:\n",
    "        share = element.select('.x193iq5w.xeuugli.x13faqbe.x1vvkbs.x1xmvt09.x1lliihq.x1s928wv.xhkezso.x1gmr53x.x1cpjm7i.x1fgarty.x1943h6x.xudqn12.x3x7a5m.x6prxxf.xvq8zen.xo1l8bm.xi81zsa')[3].text\n",
    "        print(share)\n",
    "    except:\n",
    "        continue"
   ]
  },
  {
   "cell_type": "code",
   "execution_count": 32,
   "metadata": {},
   "outputs": [
    {
     "name": "stdout",
     "output_type": "stream",
     "text": [
      "https://www.facebook.com/groups/510448169724216/posts/1731560984279589\n",
      "https://www.facebook.com/groups/510448169724216/posts/1731627564272931\n",
      "https://www.facebook.com/groups/510448169724216/posts/1731731210929233\n",
      "https://www.facebook.com/groups/510448169724216/posts/1731469790955375\n",
      "https://www.facebook.com/groups/510448169724216/posts/1731274060974948\n",
      "https://www.facebook.com/groups/510448169724216/posts/1731271610975193\n",
      "https://www.facebook.com/groups/510448169724216/posts/1731320377636983\n"
     ]
    }
   ],
   "source": [
    "import re\n",
    "\n",
    "for element in elements:\n",
    "    try:\n",
    "        link = element.select('.x1i10hfl.xjbqb8w.x1ejq31n.xd10rxx.x1sy0etr.x17r0tee.x972fbf.xcfux6l.x1qhh985.xm0m39n.x9f619.x1ypdohk.xt0psk2.xe8uvvx.xdj266r.x11i5rnm.xat24cr.x1mh8g0r.xexx8yu.x4uap5.x18d9i69.xkhd6sd.x16tdsg8.x1hl2dhg.xggy1nq.x1a2a7pz.x1sur9pj.xkrqix3.xi81zsa.xo1l8bm')[0].get('href')\n",
    "        # 正規表達式\n",
    "        base_url = re.match(r\"(https://www\\.facebook\\.com/groups/510448169724216/posts/\\d+)\", link)\n",
    "\n",
    "        if base_url:\n",
    "            print(base_url.group(1))\n",
    "        else:\n",
    "            print(link)\n",
    "    except:\n",
    "        continue"
   ]
  },
  {
   "cell_type": "code",
   "execution_count": 33,
   "metadata": {},
   "outputs": [
    {
     "name": "stdout",
     "output_type": "stream",
     "text": [
      "#台北吃到飽#MO-MO-PARADISE台北中山牧場#平日午餐金主想吃和牛想到附近的momo有出和牛饗晏就帶來吃了點菜依然使用QRcode每次最多可以點8種前菜的和牛握壽司肉質不錯但飯吃多容易飽肉品只點了和牛前腿心x6和牛三叉肉x6頂級自然牛x3其他肉品沒點2種和牛都好吃多汁香甜建議5-7分熟其他肉可忽略一品料理點的是軟殼蟹生春捲顧名思義就是生春捲包生菜和軟殼蟹生菜有點苦解膩還可以甜點的布丁口感不錯就是黑糖有點苦今天消費$0(感謝金主、讚嘆金主)\n",
      "#新北吃到飽#蘆洲#發辣X鴛鴦麻辣火鍋5/16日本純血和牛吃到飽只要798元…… 查看更多\n",
      "#台北吃到飽#君悅酒店#彩日本料理好久沒來了，超想念彩肥美的烤魚和我心中排名第一的握壽司，週五晚上用餐客人不多，可以悠哉取餐聊天真好！…… 查看更多\n",
      "#台北吃到飽#彩日本料理晚餐每次要來彩吃飯就充滿期待這裡雖然不大餐點也不算多…… 查看更多\n",
      "#台北吃到飽 #爭厚厚切牛排士林店被麵包冰品耽誤的平價牛排館！厚切豬和脆皮雞都很不錯，最便宜排餐250元起，兒童排餐180元，就有超美味的大蒜奶油吐司及霜淇淋吃到飽！飲料湯品也是喝到飽~菜色體驗在此，歡迎愛吃鬼們訂閱交流美食：https://youtu.be/gv52Pucz70I?si=uUaX_0diY187iArL\n",
      "#台中吃到飽#自由小火鍋一個人360不用服務費單人不加錢…… 查看更多\n",
      "#新北吃到飽#野人shabu林口店#高級冷藏肉品無限用餐價位/＄799+10%、999+10%…… 查看更多\n"
     ]
    }
   ],
   "source": [
    "for element in elements:\n",
    "    try:\n",
    "        article = element.select_one('.x193iq5w.xeuugli.x13faqbe.x1vvkbs.x1xmvt09.x1lliihq.x1s928wv.xhkezso.x1gmr53x.x1cpjm7i.x1fgarty.x1943h6x.xudqn12.x3x7a5m.x6prxxf.xvq8zen.xo1l8bm.xzsf02u.x1yc453h')\n",
    "        print(article.get_text())\n",
    "    except:\n",
    "        continue"
   ]
  },
  {
   "cell_type": "markdown",
   "metadata": {},
   "source": [
    "## **04. 資料儲存**"
   ]
  },
  {
   "cell_type": "code",
   "execution_count": 47,
   "metadata": {},
   "outputs": [
    {
     "data": {
      "text/html": [
       "<div>\n",
       "<style scoped>\n",
       "    .dataframe tbody tr th:only-of-type {\n",
       "        vertical-align: middle;\n",
       "    }\n",
       "\n",
       "    .dataframe tbody tr th {\n",
       "        vertical-align: top;\n",
       "    }\n",
       "\n",
       "    .dataframe thead th {\n",
       "        text-align: right;\n",
       "    }\n",
       "</style>\n",
       "<table border=\"1\" class=\"dataframe\">\n",
       "  <thead>\n",
       "    <tr style=\"text-align: right;\">\n",
       "      <th></th>\n",
       "      <th>作者</th>\n",
       "      <th>按讚數</th>\n",
       "      <th>評論數</th>\n",
       "      <th>分享數</th>\n",
       "      <th>連結</th>\n",
       "      <th>貼文內容</th>\n",
       "    </tr>\n",
       "  </thead>\n",
       "  <tbody>\n",
       "    <tr>\n",
       "      <th>0</th>\n",
       "      <td>李凱新</td>\n",
       "      <td>42</td>\n",
       "      <td>11</td>\n",
       "      <td>0</td>\n",
       "      <td>https://www.facebook.com/groups/51044816972421...</td>\n",
       "      <td>#台北吃到飽#MO-MO-PARADISE台北中山牧場#平日午餐金主想吃和牛想到附近的mom...</td>\n",
       "    </tr>\n",
       "    <tr>\n",
       "      <th>1</th>\n",
       "      <td>Yumimika Cheng</td>\n",
       "      <td>177</td>\n",
       "      <td>37則留言</td>\n",
       "      <td>1 次分享</td>\n",
       "      <td>https://www.facebook.com/groups/51044816972421...</td>\n",
       "      <td>#台北吃到飽#大倉久和歐風館#中餐時段今天來大倉久和歐風館吃中餐，要去拿爐烤牛排的時候找不到...</td>\n",
       "    </tr>\n",
       "    <tr>\n",
       "      <th>2</th>\n",
       "      <td>王作順</td>\n",
       "      <td>62</td>\n",
       "      <td>8則留言</td>\n",
       "      <td>1 次分享</td>\n",
       "      <td>https://www.facebook.com/groups/51044816972421...</td>\n",
       "      <td>#台北吃到飽#三創高麗園好久沒來三創高麗園了本月生日優惠打8折每次來高麗園都以副食為主 ……...</td>\n",
       "    </tr>\n",
       "    <tr>\n",
       "      <th>3</th>\n",
       "      <td>黃威力</td>\n",
       "      <td>61</td>\n",
       "      <td>9則留言</td>\n",
       "      <td>3次分享</td>\n",
       "      <td>https://www.facebook.com/groups/51044816972421...</td>\n",
       "      <td>#桃園吃到飽#甩鍋雞韓式炒雞 桃園餐廳 - 甩鍋雞 韓式炒雞 吃到飽 att店 之…… 查看更多</td>\n",
       "    </tr>\n",
       "    <tr>\n",
       "      <th>4</th>\n",
       "      <td>龍龍</td>\n",
       "      <td>100</td>\n",
       "      <td>18則留言</td>\n",
       "      <td>2次分享</td>\n",
       "      <td>https://www.facebook.com/groups/51044816972421...</td>\n",
       "      <td>#台中吃到飽#蓮荷創意蔬食百匯餐廳素食吃到飽餐廳蠻多異國料理，看得出廚師的用心…… 查看更多</td>\n",
       "    </tr>\n",
       "    <tr>\n",
       "      <th>5</th>\n",
       "      <td>Iver Ever</td>\n",
       "      <td>191</td>\n",
       "      <td>2次分享</td>\n",
       "      <td>0</td>\n",
       "      <td>https://www.facebook.com/groups/51044816972421...</td>\n",
       "      <td></td>\n",
       "    </tr>\n",
       "    <tr>\n",
       "      <th>6</th>\n",
       "      <td>裴宇翔</td>\n",
       "      <td>253</td>\n",
       "      <td>46則留言</td>\n",
       "      <td>0</td>\n",
       "      <td>https://www.facebook.com/groups/51044816972421...</td>\n",
       "      <td>#裴社長 #澳門吃到飽 #macau今天晚上要吃哪一間Buffet龍蝦 生蠔 生猛海鮮. 我...</td>\n",
       "    </tr>\n",
       "    <tr>\n",
       "      <th>7</th>\n",
       "      <td>朱投王</td>\n",
       "      <td>152</td>\n",
       "      <td>25則留言</td>\n",
       "      <td>3次分享</td>\n",
       "      <td>https://www.facebook.com/groups/51044816972421...</td>\n",
       "      <td>#台北吃到飽#好食多大肉盤終於輪到我來吃了, 今天主攻日本F1國產和牛, 因為點餐系統當機 ...</td>\n",
       "    </tr>\n",
       "    <tr>\n",
       "      <th>8</th>\n",
       "      <td>Hui CW</td>\n",
       "      <td>67</td>\n",
       "      <td>5則留言</td>\n",
       "      <td>0</td>\n",
       "      <td>https://www.facebook.com/groups/51044816972421...</td>\n",
       "      <td>#香港吃到飽#國泰航空貴賓室 The Deck這個貴賓室除了擔擔麵以外最特別的就是還有叻沙麵...</td>\n",
       "    </tr>\n",
       "    <tr>\n",
       "      <th>9</th>\n",
       "      <td>陳菁菁</td>\n",
       "      <td>467</td>\n",
       "      <td>63則留言</td>\n",
       "      <td>29次分享</td>\n",
       "      <td>https://www.facebook.com/groups/51044816972421...</td>\n",
       "      <td>20240512 泰蝦樂，首訪，流水道泰國蝦吃到飽，假日晚餐#桃園吃到飽#泰蝦樂#泰國蝦自由...</td>\n",
       "    </tr>\n",
       "    <tr>\n",
       "      <th>10</th>\n",
       "      <td>詹小小</td>\n",
       "      <td>495</td>\n",
       "      <td>54則留言</td>\n",
       "      <td>3次分享</td>\n",
       "      <td>https://www.facebook.com/groups/51044816972421...</td>\n",
       "      <td>#台北吃到飽#饗A joy:母親節晚餐母親節期待有特殊菜色，沒想到竟然是：肋眼上蓋肉吃到飽？...</td>\n",
       "    </tr>\n",
       "    <tr>\n",
       "      <th>11</th>\n",
       "      <td>金蜜書</td>\n",
       "      <td>333</td>\n",
       "      <td>39則留言</td>\n",
       "      <td>9次分享</td>\n",
       "      <td>https://www.facebook.com/groups/51044816972421...</td>\n",
       "      <td>#台北吃到飽#炸激食堂蜜書被金黃的炸全雞燒到，感謝閨蜜訂位帶我一起享用美食。特殊調料的炸全雞...</td>\n",
       "    </tr>\n",
       "  </tbody>\n",
       "</table>\n",
       "</div>"
      ],
      "text/plain": [
       "                作者  按讚數    評論數    分享數  \\\n",
       "0              李凱新   42     11      0   \n",
       "1   Yumimika Cheng  177  37則留言  1 次分享   \n",
       "2              王作順   62   8則留言  1 次分享   \n",
       "3              黃威力   61   9則留言   3次分享   \n",
       "4               龍龍  100  18則留言   2次分享   \n",
       "5        Iver Ever  191   2次分享      0   \n",
       "6              裴宇翔  253  46則留言      0   \n",
       "7              朱投王  152  25則留言   3次分享   \n",
       "8           Hui CW   67   5則留言      0   \n",
       "9              陳菁菁  467  63則留言  29次分享   \n",
       "10             詹小小  495  54則留言   3次分享   \n",
       "11             金蜜書  333  39則留言   9次分享   \n",
       "\n",
       "                                                   連結  \\\n",
       "0   https://www.facebook.com/groups/51044816972421...   \n",
       "1   https://www.facebook.com/groups/51044816972421...   \n",
       "2   https://www.facebook.com/groups/51044816972421...   \n",
       "3   https://www.facebook.com/groups/51044816972421...   \n",
       "4   https://www.facebook.com/groups/51044816972421...   \n",
       "5   https://www.facebook.com/groups/51044816972421...   \n",
       "6   https://www.facebook.com/groups/51044816972421...   \n",
       "7   https://www.facebook.com/groups/51044816972421...   \n",
       "8   https://www.facebook.com/groups/51044816972421...   \n",
       "9   https://www.facebook.com/groups/51044816972421...   \n",
       "10  https://www.facebook.com/groups/51044816972421...   \n",
       "11  https://www.facebook.com/groups/51044816972421...   \n",
       "\n",
       "                                                 貼文內容  \n",
       "0   #台北吃到飽#MO-MO-PARADISE台北中山牧場#平日午餐金主想吃和牛想到附近的mom...  \n",
       "1   #台北吃到飽#大倉久和歐風館#中餐時段今天來大倉久和歐風館吃中餐，要去拿爐烤牛排的時候找不到...  \n",
       "2   #台北吃到飽#三創高麗園好久沒來三創高麗園了本月生日優惠打8折每次來高麗園都以副食為主 ……...  \n",
       "3    #桃園吃到飽#甩鍋雞韓式炒雞 桃園餐廳 - 甩鍋雞 韓式炒雞 吃到飽 att店 之…… 查看更多  \n",
       "4      #台中吃到飽#蓮荷創意蔬食百匯餐廳素食吃到飽餐廳蠻多異國料理，看得出廚師的用心…… 查看更多  \n",
       "5                                                      \n",
       "6   #裴社長 #澳門吃到飽 #macau今天晚上要吃哪一間Buffet龍蝦 生蠔 生猛海鮮. 我...  \n",
       "7   #台北吃到飽#好食多大肉盤終於輪到我來吃了, 今天主攻日本F1國產和牛, 因為點餐系統當機 ...  \n",
       "8   #香港吃到飽#國泰航空貴賓室 The Deck這個貴賓室除了擔擔麵以外最特別的就是還有叻沙麵...  \n",
       "9   20240512 泰蝦樂，首訪，流水道泰國蝦吃到飽，假日晚餐#桃園吃到飽#泰蝦樂#泰國蝦自由...  \n",
       "10  #台北吃到飽#饗A joy:母親節晚餐母親節期待有特殊菜色，沒想到竟然是：肋眼上蓋肉吃到飽？...  \n",
       "11  #台北吃到飽#炸激食堂蜜書被金黃的炸全雞燒到，感謝閨蜜訂位帶我一起享用美食。特殊調料的炸全雞...  "
      ]
     },
     "execution_count": 47,
     "metadata": {},
     "output_type": "execute_result"
    }
   ],
   "source": [
    "import pandas as pd\n",
    "\n",
    "name_list, like_list, comment_list, share_list, link_list, article_list = [], [], [], [], [], []\n",
    "\n",
    "for element in elements:\n",
    "    # 貼文作者\n",
    "    try:\n",
    "        name = element.select('.xt0psk2 span')[0].text\n",
    "        name_list.append(name)\n",
    "    except:\n",
    "        continue\n",
    "\n",
    "    # 按讚數\n",
    "    try:\n",
    "        like = element.select('.xt0b8zv.x2bj2ny.xrbpyxo.xl423tq span.x1e558r4')[0].text\n",
    "        like_list.append(like)\n",
    "    except:\n",
    "        like_list.append(0)\n",
    "\n",
    "    # 評論數\n",
    "    try:\n",
    "        comment = element.select('.x193iq5w.xeuugli.x13faqbe.x1vvkbs.x1xmvt09.x1lliihq.x1s928wv.xhkezso.x1gmr53x.x1cpjm7i.x1fgarty.x1943h6x.xudqn12.x3x7a5m.x6prxxf.xvq8zen.xo1l8bm.xi81zsa')[2].text\n",
    "        comment_list.append(comment)\n",
    "    except:\n",
    "        comment_list.append(0)\n",
    "\n",
    "    # 分享數\n",
    "    try:\n",
    "        share = element.select('.x193iq5w.xeuugli.x13faqbe.x1vvkbs.x1xmvt09.x1lliihq.x1s928wv.xhkezso.x1gmr53x.x1cpjm7i.x1fgarty.x1943h6x.xudqn12.x3x7a5m.x6prxxf.xvq8zen.xo1l8bm.xi81zsa')[3].text\n",
    "        share_list.append(share)\n",
    "    except:\n",
    "        share_list.append(0)\n",
    "\n",
    "    # 連結\n",
    "    try:\n",
    "        link = element.select('.x1i10hfl.xjbqb8w.x1ejq31n.xd10rxx.x1sy0etr.x17r0tee.x972fbf.xcfux6l.x1qhh985.xm0m39n.x9f619.x1ypdohk.xt0psk2.xe8uvvx.xdj266r.x11i5rnm.xat24cr.x1mh8g0r.xexx8yu.x4uap5.x18d9i69.xkhd6sd.x16tdsg8.x1hl2dhg.xggy1nq.x1a2a7pz.x1sur9pj.xkrqix3.xi81zsa.xo1l8bm')[0].get('href')\n",
    "        # 正規表達式\n",
    "        base_url = re.match(r\"(https://www\\.facebook\\.com/groups/510448169724216/posts/\\d+)\", link)\n",
    "\n",
    "        if base_url:\n",
    "            link_list.append(base_url.group(1))\n",
    "        else:\n",
    "            link_list.append(link)\n",
    "    except:\n",
    "        link_list.append('')\n",
    "\n",
    "    # 貼文內容\n",
    "    try:\n",
    "        article = element.select_one('.x193iq5w.xeuugli.x13faqbe.x1vvkbs.x1xmvt09.x1lliihq.x1s928wv.xhkezso.x1gmr53x.x1cpjm7i.x1fgarty.x1943h6x.xudqn12.x3x7a5m.x6prxxf.xvq8zen.xo1l8bm.xzsf02u.x1yc453h')\n",
    "        article_list.append(article.get_text())\n",
    "    except:\n",
    "        article_list.append('')\n",
    "\n",
    "df = pd.DataFrame({\n",
    "    '作者': name_list,\n",
    "    '按讚數': like_list,\n",
    "    '評論數': comment_list,\n",
    "    '分享數': share_list,\n",
    "    '連結': link_list,\n",
    "    '貼文內容': article_list\n",
    "})\n",
    "df"
   ]
  }
 ],
 "metadata": {
  "kernelspec": {
   "display_name": "venv",
   "language": "python",
   "name": "python3"
  },
  "language_info": {
   "codemirror_mode": {
    "name": "ipython",
    "version": 3
   },
   "file_extension": ".py",
   "mimetype": "text/x-python",
   "name": "python",
   "nbconvert_exporter": "python",
   "pygments_lexer": "ipython3",
   "version": "3.10.9"
  }
 },
 "nbformat": 4,
 "nbformat_minor": 2
}
